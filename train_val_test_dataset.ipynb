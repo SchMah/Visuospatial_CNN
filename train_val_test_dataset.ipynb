{
 "cells": [
  {
   "cell_type": "code",
   "execution_count": 7,
   "id": "b3f4ca4a-dd45-40d5-be4d-02faa3597439",
   "metadata": {},
   "outputs": [
    {
     "name": "stdout",
     "output_type": "stream",
     "text": [
      "Creating datasets folder\n",
      "Creating folders for training, validation, and test datasets\n"
     ]
    }
   ],
   "source": [
    "import random\n",
    "import os\n",
    "import shutil\n",
    "random.seed(42)\n",
    "image_dir = 'registered_image'\n",
    "imagelist = os.listdir(os.path.join(image_dir))\n",
    "list_shuffled = random.shuffle(imagelist)\n",
    "\n",
    "path_data = 'datasets/images'\n",
    "if not os.path.isdir(path_data):\n",
    "    os.mkdir(path_data)\n",
    "    print('Creating datasets folder')\n",
    "else:\n",
    "    print('Parent directory exists')\n",
    "training_dir = 'train'\n",
    "val_dir = 'val'\n",
    "test_dir = 'test'\n",
    "if not os.path.isdir(os.path.join(path_data,training_dir)) or not os.path.isdir(os.path.join(path_data,val_dir)) or not os.path.isdir(os.path.join(path_data,test_dir)):\n",
    "    os.mkdir(os.path.join(path_data,training_dir))\n",
    "    os.mkdir(os.path.join(path_data,val_dir))\n",
    "    os.mkdir(os.path.join(path_data,test_dir))\n",
    "    print('Creating folders for training, validation, and test datasets')\n",
    "else:\n",
    "    print('Training, validation, and test folders exists')\n",
    "    \n",
    "source_dir = image_dir\n",
    "dest_training = os.path.join(path_data, training_dir)\n",
    "dest_val = os.path.join(path_data, val_dir)\n",
    "dest_test = os.path.join(path_data, test_dir)\n",
    "\n",
    "for filename in imagelist[:80]:  # for training set\n",
    "    source_path = os.path.join(source_dir, filename)\n",
    "    dest_path = os.path.join(dest_training, filename)\n",
    "    shutil.copy(source_path, dest_path)\n",
    "\n",
    "for filename in imagelist[80:100]:  # for training set\n",
    "    source_path = os.path.join(source_dir, filename)\n",
    "    dest_path = os.path.join(dest_val, filename)\n",
    "    shutil.copy(source_path, dest_path)\n",
    "\n",
    "for filename in imagelist[100:110]:  # for training set\n",
    "    source_path = os.path.join(source_dir, filename)\n",
    "    dest_path = os.path.join(dest_test, filename)\n",
    "    shutil.copy(source_path, dest_path)\n",
    "\n"
   ]
  },
  {
   "cell_type": "code",
   "execution_count": null,
   "id": "c91875e5-5587-4572-8680-89545812ec51",
   "metadata": {},
   "outputs": [],
   "source": []
  }
 ],
 "metadata": {
  "kernelspec": {
   "display_name": "Python [conda env:base] *",
   "language": "python",
   "name": "conda-base-py"
  },
  "language_info": {
   "codemirror_mode": {
    "name": "ipython",
    "version": 3
   },
   "file_extension": ".py",
   "mimetype": "text/x-python",
   "name": "python",
   "nbconvert_exporter": "python",
   "pygments_lexer": "ipython3",
   "version": "3.12.2"
  }
 },
 "nbformat": 4,
 "nbformat_minor": 5
}
